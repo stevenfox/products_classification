{
  "nbformat": 4,
  "nbformat_minor": 0,
  "metadata": {
    "colab": {
      "name": "BrandMind_Stefanos.ipynb",
      "provenance": [],
      "collapsed_sections": [],
      "mount_file_id": "1PdLt6QFKUKEIf_8pCR_lLYYUVSgfg4zI",
      "authorship_tag": "ABX9TyOnZY5KmxZ7VIbu0Ny6DK2J",
      "include_colab_link": true
    },
    "kernelspec": {
      "name": "python3",
      "display_name": "Python 3"
    },
    "accelerator": "GPU"
  },
  "cells": [
    {
      "cell_type": "markdown",
      "metadata": {
        "id": "view-in-github",
        "colab_type": "text"
      },
      "source": [
        "<a href=\"https://colab.research.google.com/github/stevenfox/products_classification/blob/main/BrandMind_Stefanos.ipynb\" target=\"_parent\"><img src=\"https://colab.research.google.com/assets/colab-badge.svg\" alt=\"Open In Colab\"/></a>"
      ]
    },
    {
      "cell_type": "markdown",
      "metadata": {
        "id": "O4NmVU5kmLzO"
      },
      "source": [
        "#Classification on shopping products using CNN with TF and Keras\n",
        "\n",
        "  Classify a given product based on 29 categories."
      ]
    },
    {
      "cell_type": "code",
      "metadata": {
        "id": "rrGC7iMNOupE"
      },
      "source": [
        "from sklearn.model_selection import train_test_split\n",
        "from sklearn.metrics import classification_report\n",
        "from sklearn.preprocessing import LabelBinarizer\n",
        "from sklearn import preprocessing\n",
        "\n",
        "# Helper libraries\n",
        "import numpy as np\n",
        "import matplotlib.pyplot as plt\n",
        "\n",
        "\n",
        "\n",
        "import os, shutil\n",
        "import matplotlib.image as mpimg\n",
        "import cv2\n",
        "from imutils import paths\n",
        "# import pickle\n",
        "import random\n",
        "\n"
      ],
      "execution_count": 1,
      "outputs": []
    },
    {
      "cell_type": "markdown",
      "metadata": {
        "id": "OSNGWX8LTbTy"
      },
      "source": [
        "Paths\n"
      ]
    },
    {
      "cell_type": "code",
      "metadata": {
        "id": "3-n73qvpQL8I"
      },
      "source": [
        "drive_dataset_dir= '/content/drive/MyDrive/Colab Notebooks/BrandMind_Assessment/Products'\n",
        "dataset_dir = '/content/products'"
      ],
      "execution_count": 10,
      "outputs": []
    },
    {
      "cell_type": "code",
      "metadata": {
        "id": "xdh9oklUMa5v"
      },
      "source": [
        "def copytree(src, dst, symlinks=False, ignore=None):\n",
        "    for item in os.listdir(src):\n",
        "        s = os.path.join(src, item)\n",
        "        d = os.path.join(dst, item)\n",
        "        if os.path.isdir(s):\n",
        "            shutil.copytree(s, d, symlinks, ignore)\n",
        "        else:\n",
        "            shutil.copy2(s, d)"
      ],
      "execution_count": 3,
      "outputs": []
    },
    {
      "cell_type": "code",
      "metadata": {
        "id": "kWepi5AaMo1Y"
      },
      "source": [
        "# copy folder to the google colab workplace\n",
        "copytree(drive_dataset_dir, dataset_dir)"
      ],
      "execution_count": 6,
      "outputs": []
    },
    {
      "cell_type": "code",
      "metadata": {
        "id": "SF7JX1FGMds1"
      },
      "source": [
        ""
      ],
      "execution_count": null,
      "outputs": []
    },
    {
      "cell_type": "code",
      "metadata": {
        "id": "EnQRQCLDN0qZ"
      },
      "source": [
        "data = []\n",
        "labels = []"
      ],
      "execution_count": 7,
      "outputs": []
    },
    {
      "cell_type": "code",
      "metadata": {
        "id": "YviWOC3fNhj9"
      },
      "source": [
        "# grab the image paths and randomly shuffle them\n",
        "imagePaths = sorted(list(paths.list_images(dataset_dir)))"
      ],
      "execution_count": 11,
      "outputs": []
    },
    {
      "cell_type": "code",
      "metadata": {
        "colab": {
          "base_uri": "https://localhost:8080/"
        },
        "id": "qNwWza7keQEx",
        "outputId": "64acc436-aa56-4acf-8bb9-9654236d889e"
      },
      "source": [
        "#total number images\n",
        "total_number_of_images = len(imagePaths)\n",
        "print(\"Total number of images----->\",total_number_of_images)\n",
        "random.shuffle(imagePaths)"
      ],
      "execution_count": 12,
      "outputs": [
        {
          "output_type": "stream",
          "text": [
            "Total number of images-----> 9398\n"
          ],
          "name": "stdout"
        }
      ]
    },
    {
      "cell_type": "code",
      "metadata": {
        "id": "Oa3tKNeAecE5"
      },
      "source": [
        "# loop over the shuffled input images\n",
        "for imagePath in imagePaths:\n",
        "\n",
        "  #Read the image into a numpy array using opencv\n",
        "  #all the read images are of different shapes\n",
        "  image = cv2.imread(imagePath)\n",
        "\n",
        "  #resize the image to be 32x32 pixels (ignoring aspect ratio)\n",
        "  #After reshape size of all the images will become 32x32x3\n",
        "  #Total number of pixels in every image = 32x32x3=3072\n",
        "  image = cv2.resize(image, (32, 32))\n",
        "\n",
        "  #flatten converts every 3D image (32x32x3) into 1D numpy array of shape\n",
        "\n",
        "  image_flatten = image.flatten()\n",
        "\n",
        "  #Append each image data 1D array to the data list\n",
        "  data.append(image_flatten)\n",
        "\n",
        "  # extract the class label from the image path and update the\n",
        "  label = imagePath.split(os.path.sep)[-2]\n",
        "  #Append each image label to the labels list\n",
        "  labels.append(label)\n",
        "  # print(imagePath)\n",
        "# scale the raw pixel intensities to the range [0, 1]\n",
        "#convert the data and label list to numpy array\n",
        "data = np.array(data, dtype=\"float\") / 255.0\n",
        "labels = np.array(labels)"
      ],
      "execution_count": 13,
      "outputs": []
    },
    {
      "cell_type": "code",
      "metadata": {
        "id": "OP1SFalZh0Hg",
        "colab": {
          "base_uri": "https://localhost:8080/"
        },
        "outputId": "2d2bfca5-0f17-440b-b2eb-93eabeacf8d2"
      },
      "source": [
        "# partition the data into training, testing and validation splits using 60% of\n",
        "# the data for training, 20% for testing and the remaining 20% for validating\n",
        "# train_test_split is a scikit-learn's function which helps us to split images into three devisions of training, testing and validation respectively\n",
        "\n",
        "(X_train, X_test, y_train, y_test) = train_test_split(data, labels, test_size=0.2, random_state=1) # initial split of 80% / 20%\n",
        "\n",
        "(X_train, X_val, y_train, y_val )= train_test_split(X_train, y_train, test_size=0.25, random_state=1) # 0.25 x 0.8 = 0.2\n",
        "\n",
        "\n",
        "print(\"Amount of training images --->\",len(X_train),\",\",\"Amount of training labels --->\",len(y_train))\n",
        "print(\"Amount of testing images --->\",len(X_test),\",\",\"Amount of testing labels --->\",len(y_test))\n",
        "print(\"Amount of validating images --->\",len(X_val),\",\",\"Amount of testing labels --->\",len(y_val))\n"
      ],
      "execution_count": 14,
      "outputs": [
        {
          "output_type": "stream",
          "text": [
            "Amount of training images ---> 5638 , Amount of training labels ---> 5638\n",
            "Amount of testing images ---> 1880 , Amount of testing labels ---> 1880\n",
            "Amount of validating images ---> 1880 , Amount of testing labels ---> 1880\n"
          ],
          "name": "stdout"
        }
      ]
    },
    {
      "cell_type": "code",
      "metadata": {
        "id": "lXEHg3f_boIu"
      },
      "source": [
        "# convert the labels from integers to vectors \n",
        "# perform One hot encoding of all the labels using scikit-learn's function LabelBinarizer\n",
        "# LabelBinarizer fit_transform finds all the labels\n",
        "\n",
        "lb = preprocessing.LabelBinarizer()\n",
        "trainY = lb.fit_transform(y_train)\n",
        "testY = lb.transform(y_test)\n",
        "valY = lb.transform(y_val)\n"
      ],
      "execution_count": 15,
      "outputs": []
    },
    {
      "cell_type": "code",
      "metadata": {
        "id": "bo_NrVjsgch0",
        "colab": {
          "base_uri": "https://localhost:8080/"
        },
        "outputId": "4c79e531-3f96-4c5c-928d-f469e0f98a79"
      },
      "source": [
        "print(\"\\n\")\n",
        "print (\"Classes found to train\",)\n",
        "train_classes = lb.classes_\n",
        "print(train_classes)\n",
        "binary_rep_each_class = lb.transform(train_classes)\n",
        "print(\"Binary representation of each class\")\n",
        "print(binary_rep_each_class)\n",
        "print(\"\\n\")"
      ],
      "execution_count": 16,
      "outputs": [
        {
          "output_type": "stream",
          "text": [
            "\n",
            "\n",
            "Classes found to train\n",
            "['beanie' 'bikini' 'blazers' 'boat-shoes' 'boatneck-tops' 'bodysuit'\n",
            " 'boots' 'bowtie' 'bracelets' 'business-suits' 'cami-tops' 'chelsea-boots'\n",
            " 'coats' 'crop-tops' 'demin-jackets' 'earrings' 'evening-gowns' 'gloves'\n",
            " 'hoodies' 'pumps' 'scarf' 'skirts' 'sneakers' 'stilettos' 'sunglasses'\n",
            " 'trousers' 'tuxedos' 'waistcoat' 'wristwatch']\n",
            "Binary representation of each class\n",
            "[[1 0 0 0 0 0 0 0 0 0 0 0 0 0 0 0 0 0 0 0 0 0 0 0 0 0 0 0 0]\n",
            " [0 1 0 0 0 0 0 0 0 0 0 0 0 0 0 0 0 0 0 0 0 0 0 0 0 0 0 0 0]\n",
            " [0 0 1 0 0 0 0 0 0 0 0 0 0 0 0 0 0 0 0 0 0 0 0 0 0 0 0 0 0]\n",
            " [0 0 0 1 0 0 0 0 0 0 0 0 0 0 0 0 0 0 0 0 0 0 0 0 0 0 0 0 0]\n",
            " [0 0 0 0 1 0 0 0 0 0 0 0 0 0 0 0 0 0 0 0 0 0 0 0 0 0 0 0 0]\n",
            " [0 0 0 0 0 1 0 0 0 0 0 0 0 0 0 0 0 0 0 0 0 0 0 0 0 0 0 0 0]\n",
            " [0 0 0 0 0 0 1 0 0 0 0 0 0 0 0 0 0 0 0 0 0 0 0 0 0 0 0 0 0]\n",
            " [0 0 0 0 0 0 0 1 0 0 0 0 0 0 0 0 0 0 0 0 0 0 0 0 0 0 0 0 0]\n",
            " [0 0 0 0 0 0 0 0 1 0 0 0 0 0 0 0 0 0 0 0 0 0 0 0 0 0 0 0 0]\n",
            " [0 0 0 0 0 0 0 0 0 1 0 0 0 0 0 0 0 0 0 0 0 0 0 0 0 0 0 0 0]\n",
            " [0 0 0 0 0 0 0 0 0 0 1 0 0 0 0 0 0 0 0 0 0 0 0 0 0 0 0 0 0]\n",
            " [0 0 0 0 0 0 0 0 0 0 0 1 0 0 0 0 0 0 0 0 0 0 0 0 0 0 0 0 0]\n",
            " [0 0 0 0 0 0 0 0 0 0 0 0 1 0 0 0 0 0 0 0 0 0 0 0 0 0 0 0 0]\n",
            " [0 0 0 0 0 0 0 0 0 0 0 0 0 1 0 0 0 0 0 0 0 0 0 0 0 0 0 0 0]\n",
            " [0 0 0 0 0 0 0 0 0 0 0 0 0 0 1 0 0 0 0 0 0 0 0 0 0 0 0 0 0]\n",
            " [0 0 0 0 0 0 0 0 0 0 0 0 0 0 0 1 0 0 0 0 0 0 0 0 0 0 0 0 0]\n",
            " [0 0 0 0 0 0 0 0 0 0 0 0 0 0 0 0 1 0 0 0 0 0 0 0 0 0 0 0 0]\n",
            " [0 0 0 0 0 0 0 0 0 0 0 0 0 0 0 0 0 1 0 0 0 0 0 0 0 0 0 0 0]\n",
            " [0 0 0 0 0 0 0 0 0 0 0 0 0 0 0 0 0 0 1 0 0 0 0 0 0 0 0 0 0]\n",
            " [0 0 0 0 0 0 0 0 0 0 0 0 0 0 0 0 0 0 0 1 0 0 0 0 0 0 0 0 0]\n",
            " [0 0 0 0 0 0 0 0 0 0 0 0 0 0 0 0 0 0 0 0 1 0 0 0 0 0 0 0 0]\n",
            " [0 0 0 0 0 0 0 0 0 0 0 0 0 0 0 0 0 0 0 0 0 1 0 0 0 0 0 0 0]\n",
            " [0 0 0 0 0 0 0 0 0 0 0 0 0 0 0 0 0 0 0 0 0 0 1 0 0 0 0 0 0]\n",
            " [0 0 0 0 0 0 0 0 0 0 0 0 0 0 0 0 0 0 0 0 0 0 0 1 0 0 0 0 0]\n",
            " [0 0 0 0 0 0 0 0 0 0 0 0 0 0 0 0 0 0 0 0 0 0 0 0 1 0 0 0 0]\n",
            " [0 0 0 0 0 0 0 0 0 0 0 0 0 0 0 0 0 0 0 0 0 0 0 0 0 1 0 0 0]\n",
            " [0 0 0 0 0 0 0 0 0 0 0 0 0 0 0 0 0 0 0 0 0 0 0 0 0 0 1 0 0]\n",
            " [0 0 0 0 0 0 0 0 0 0 0 0 0 0 0 0 0 0 0 0 0 0 0 0 0 0 0 1 0]\n",
            " [0 0 0 0 0 0 0 0 0 0 0 0 0 0 0 0 0 0 0 0 0 0 0 0 0 0 0 0 1]]\n",
            "\n",
            "\n"
          ],
          "name": "stdout"
        }
      ]
    },
    {
      "cell_type": "code",
      "metadata": {
        "id": "w4Uty79kh8O0"
      },
      "source": [
        ""
      ],
      "execution_count": 16,
      "outputs": []
    },
    {
      "cell_type": "markdown",
      "metadata": {
        "id": "hzJIe4sH6NRQ"
      },
      "source": [
        "## Deep learning libraries"
      ]
    },
    {
      "cell_type": "code",
      "metadata": {
        "id": "fVsZD3cclk4C",
        "colab": {
          "base_uri": "https://localhost:8080/",
          "height": 37
        },
        "outputId": "95fe9ebc-b2aa-4061-eb92-d6c983ce703e"
      },
      "source": [
        "import tensorflow as tf\n",
        "\n",
        "from tensorflow import keras\n",
        "from tensorflow.keras import layers\n",
        "from tensorflow.keras.models import Sequential\n",
        "from keras.layers import Conv2D, MaxPooling2D\n",
        "from keras.layers import Activation, Dropout, Flatten, Dense\n",
        "from keras.callbacks import ModelCheckpoint\n",
        "from keras.optimizers import SGD\n",
        "from keras import backend as K\n",
        "\n",
        "#' ' means CPU whereas '/device:G:0' means GPU\n",
        "tf.test.gpu_device_name()\n"
      ],
      "execution_count": 17,
      "outputs": [
        {
          "output_type": "execute_result",
          "data": {
            "application/vnd.google.colaboratory.intrinsic+json": {
              "type": "string"
            },
            "text/plain": [
              "'/device:GPU:0'"
            ]
          },
          "metadata": {
            "tags": []
          },
          "execution_count": 17
        }
      ]
    },
    {
      "cell_type": "code",
      "metadata": {
        "id": "r1ou43rqVmHE",
        "colab": {
          "base_uri": "https://localhost:8080/"
        },
        "outputId": "66faa1f8-2c08-4c34-bda8-ce7a2adf04c8"
      },
      "source": [
        "# dimensions of our images.\n",
        "img_width, img_height = 150, 150\n",
        "\n",
        "INIT_LR = 0.001\n",
        "EPOCHS = 75\n",
        "opt = SGD(lr=INIT_LR)\n",
        "batch_size = 32\n",
        "\n",
        "checkpoint = ModelCheckpoint('model-checkpoint.h5', verbose=0, monitor='val_loss',save_best_only=True, mode='auto')  \n",
        "\n",
        "\n",
        "model = Sequential()\n",
        "model.add(Dense(32, activation='relu'))\n",
        "model.add(Dense(32, activation='relu'))\n",
        "model.add(Dense(32, activation='relu'))\n",
        "model.add(Dropout(0.2))\n",
        "model.add(Flatten(input_shape=X_train.shape[1:]))\n",
        "model.add(Dense(64, activation='relu'))\n",
        "model.add(Dense(64, activation='relu'))\n",
        "model.add(Dense(128, activation='relu'))\n",
        "\n",
        "\n",
        "model.add(Dropout(0.5))\n",
        "model.add(Dense(len(train_classes), activation='sigmoid'))\n",
        "\n",
        "\n",
        "model.compile(loss=\"categorical_crossentropy\", \n",
        "              optimizer=opt,metrics=[\"accuracy\"])\n",
        "\n",
        "\n",
        "model_history = model.fit(X_train, trainY,\n",
        "          epochs=EPOCHS,\n",
        "          batch_size=batch_size,\n",
        "          validation_data=(X_val, valY), \n",
        "          callbacks=[checkpoint])\n",
        "model.save_weights('products_model.h5')\n",
        "model.summary()"
      ],
      "execution_count": 20,
      "outputs": [
        {
          "output_type": "stream",
          "text": [
            "Epoch 1/75\n",
            "177/177 [==============================] - 1s 5ms/step - loss: 3.3720 - accuracy: 0.0357 - val_loss: 3.3636 - val_accuracy: 0.0426\n",
            "Epoch 2/75\n",
            "177/177 [==============================] - 1s 4ms/step - loss: 3.3669 - accuracy: 0.0373 - val_loss: 3.3596 - val_accuracy: 0.0383\n",
            "Epoch 3/75\n",
            "177/177 [==============================] - 1s 4ms/step - loss: 3.3616 - accuracy: 0.0472 - val_loss: 3.3563 - val_accuracy: 0.0479\n",
            "Epoch 4/75\n",
            "177/177 [==============================] - 1s 4ms/step - loss: 3.3635 - accuracy: 0.0355 - val_loss: 3.3533 - val_accuracy: 0.0473\n",
            "Epoch 5/75\n",
            "177/177 [==============================] - 1s 4ms/step - loss: 3.3570 - accuracy: 0.0399 - val_loss: 3.3502 - val_accuracy: 0.0553\n",
            "Epoch 6/75\n",
            "177/177 [==============================] - 1s 4ms/step - loss: 3.3531 - accuracy: 0.0491 - val_loss: 3.3469 - val_accuracy: 0.0569\n",
            "Epoch 7/75\n",
            "177/177 [==============================] - 1s 4ms/step - loss: 3.3511 - accuracy: 0.0491 - val_loss: 3.3438 - val_accuracy: 0.0564\n",
            "Epoch 8/75\n",
            "177/177 [==============================] - 1s 4ms/step - loss: 3.3499 - accuracy: 0.0506 - val_loss: 3.3409 - val_accuracy: 0.0628\n",
            "Epoch 9/75\n",
            "177/177 [==============================] - 1s 4ms/step - loss: 3.3481 - accuracy: 0.0453 - val_loss: 3.3372 - val_accuracy: 0.0654\n",
            "Epoch 10/75\n",
            "177/177 [==============================] - 1s 4ms/step - loss: 3.3433 - accuracy: 0.0517 - val_loss: 3.3345 - val_accuracy: 0.0660\n",
            "Epoch 11/75\n",
            "177/177 [==============================] - 1s 4ms/step - loss: 3.3388 - accuracy: 0.0566 - val_loss: 3.3296 - val_accuracy: 0.0638\n",
            "Epoch 12/75\n",
            "177/177 [==============================] - 1s 4ms/step - loss: 3.3425 - accuracy: 0.0527 - val_loss: 3.3269 - val_accuracy: 0.0676\n",
            "Epoch 13/75\n",
            "177/177 [==============================] - 1s 4ms/step - loss: 3.3321 - accuracy: 0.0549 - val_loss: 3.3228 - val_accuracy: 0.0809\n",
            "Epoch 14/75\n",
            "177/177 [==============================] - 1s 4ms/step - loss: 3.3271 - accuracy: 0.0545 - val_loss: 3.3175 - val_accuracy: 0.0814\n",
            "Epoch 15/75\n",
            "177/177 [==============================] - 1s 4ms/step - loss: 3.3329 - accuracy: 0.0524 - val_loss: 3.3139 - val_accuracy: 0.0862\n",
            "Epoch 16/75\n",
            "177/177 [==============================] - 1s 4ms/step - loss: 3.3258 - accuracy: 0.0604 - val_loss: 3.3088 - val_accuracy: 0.0888\n",
            "Epoch 17/75\n",
            "177/177 [==============================] - 1s 4ms/step - loss: 3.3179 - accuracy: 0.0663 - val_loss: 3.3028 - val_accuracy: 0.0931\n",
            "Epoch 18/75\n",
            "177/177 [==============================] - 1s 4ms/step - loss: 3.3198 - accuracy: 0.0595 - val_loss: 3.2969 - val_accuracy: 0.0915\n",
            "Epoch 19/75\n",
            "177/177 [==============================] - 1s 4ms/step - loss: 3.3168 - accuracy: 0.0639 - val_loss: 3.2915 - val_accuracy: 0.0968\n",
            "Epoch 20/75\n",
            "177/177 [==============================] - 1s 4ms/step - loss: 3.3089 - accuracy: 0.0621 - val_loss: 3.2857 - val_accuracy: 0.0915\n",
            "Epoch 21/75\n",
            "177/177 [==============================] - 1s 4ms/step - loss: 3.3026 - accuracy: 0.0602 - val_loss: 3.2770 - val_accuracy: 0.0915\n",
            "Epoch 22/75\n",
            "177/177 [==============================] - 1s 4ms/step - loss: 3.2904 - accuracy: 0.0740 - val_loss: 3.2692 - val_accuracy: 0.0910\n",
            "Epoch 23/75\n",
            "177/177 [==============================] - 1s 4ms/step - loss: 3.2884 - accuracy: 0.0701 - val_loss: 3.2600 - val_accuracy: 0.0920\n",
            "Epoch 24/75\n",
            "177/177 [==============================] - 1s 4ms/step - loss: 3.2840 - accuracy: 0.0762 - val_loss: 3.2504 - val_accuracy: 0.0936\n",
            "Epoch 25/75\n",
            "177/177 [==============================] - 1s 4ms/step - loss: 3.2781 - accuracy: 0.0695 - val_loss: 3.2403 - val_accuracy: 0.0931\n",
            "Epoch 26/75\n",
            "177/177 [==============================] - 1s 4ms/step - loss: 3.2619 - accuracy: 0.0717 - val_loss: 3.2264 - val_accuracy: 0.0941\n",
            "Epoch 27/75\n",
            "177/177 [==============================] - 1s 4ms/step - loss: 3.2662 - accuracy: 0.0735 - val_loss: 3.2154 - val_accuracy: 0.0920\n",
            "Epoch 28/75\n",
            "177/177 [==============================] - 1s 4ms/step - loss: 3.2463 - accuracy: 0.0716 - val_loss: 3.2033 - val_accuracy: 0.0920\n",
            "Epoch 29/75\n",
            "177/177 [==============================] - 1s 4ms/step - loss: 3.2404 - accuracy: 0.0726 - val_loss: 3.1891 - val_accuracy: 0.0920\n",
            "Epoch 30/75\n",
            "177/177 [==============================] - 1s 4ms/step - loss: 3.2281 - accuracy: 0.0771 - val_loss: 3.1778 - val_accuracy: 0.0973\n",
            "Epoch 31/75\n",
            "177/177 [==============================] - 1s 4ms/step - loss: 3.2155 - accuracy: 0.0729 - val_loss: 3.1628 - val_accuracy: 0.1011\n",
            "Epoch 32/75\n",
            "177/177 [==============================] - 1s 4ms/step - loss: 3.2045 - accuracy: 0.0710 - val_loss: 3.1484 - val_accuracy: 0.1011\n",
            "Epoch 33/75\n",
            "177/177 [==============================] - 1s 4ms/step - loss: 3.1954 - accuracy: 0.0803 - val_loss: 3.1312 - val_accuracy: 0.1032\n",
            "Epoch 34/75\n",
            "177/177 [==============================] - 1s 4ms/step - loss: 3.1888 - accuracy: 0.0820 - val_loss: 3.1231 - val_accuracy: 0.1085\n",
            "Epoch 35/75\n",
            "177/177 [==============================] - 1s 4ms/step - loss: 3.1729 - accuracy: 0.0798 - val_loss: 3.1098 - val_accuracy: 0.1048\n",
            "Epoch 36/75\n",
            "177/177 [==============================] - 1s 4ms/step - loss: 3.1694 - accuracy: 0.0818 - val_loss: 3.1001 - val_accuracy: 0.1186\n",
            "Epoch 37/75\n",
            "177/177 [==============================] - 1s 4ms/step - loss: 3.1704 - accuracy: 0.0817 - val_loss: 3.0945 - val_accuracy: 0.1245\n",
            "Epoch 38/75\n",
            "177/177 [==============================] - 1s 4ms/step - loss: 3.1611 - accuracy: 0.0823 - val_loss: 3.0825 - val_accuracy: 0.1271\n",
            "Epoch 39/75\n",
            "177/177 [==============================] - 1s 4ms/step - loss: 3.1417 - accuracy: 0.0881 - val_loss: 3.0757 - val_accuracy: 0.1218\n",
            "Epoch 40/75\n",
            "177/177 [==============================] - 1s 4ms/step - loss: 3.1501 - accuracy: 0.0802 - val_loss: 3.0697 - val_accuracy: 0.1255\n",
            "Epoch 41/75\n",
            "177/177 [==============================] - 1s 4ms/step - loss: 3.1339 - accuracy: 0.0879 - val_loss: 3.0623 - val_accuracy: 0.1277\n",
            "Epoch 42/75\n",
            "177/177 [==============================] - 1s 4ms/step - loss: 3.1262 - accuracy: 0.0923 - val_loss: 3.0550 - val_accuracy: 0.1218\n",
            "Epoch 43/75\n",
            "177/177 [==============================] - 1s 4ms/step - loss: 3.1168 - accuracy: 0.0996 - val_loss: 3.0436 - val_accuracy: 0.1303\n",
            "Epoch 44/75\n",
            "177/177 [==============================] - 1s 4ms/step - loss: 3.1133 - accuracy: 0.0932 - val_loss: 3.0424 - val_accuracy: 0.1383\n",
            "Epoch 45/75\n",
            "177/177 [==============================] - 1s 4ms/step - loss: 3.1203 - accuracy: 0.0953 - val_loss: 3.0313 - val_accuracy: 0.1372\n",
            "Epoch 46/75\n",
            "177/177 [==============================] - 1s 4ms/step - loss: 3.0879 - accuracy: 0.0998 - val_loss: 3.0268 - val_accuracy: 0.1324\n",
            "Epoch 47/75\n",
            "177/177 [==============================] - 1s 4ms/step - loss: 3.1029 - accuracy: 0.0977 - val_loss: 3.0198 - val_accuracy: 0.1362\n",
            "Epoch 48/75\n",
            "177/177 [==============================] - 1s 4ms/step - loss: 3.1000 - accuracy: 0.0930 - val_loss: 3.0121 - val_accuracy: 0.1372\n",
            "Epoch 49/75\n",
            "177/177 [==============================] - 1s 4ms/step - loss: 3.0841 - accuracy: 0.1018 - val_loss: 3.0000 - val_accuracy: 0.1410\n",
            "Epoch 50/75\n",
            "177/177 [==============================] - 1s 4ms/step - loss: 3.0740 - accuracy: 0.1050 - val_loss: 2.9963 - val_accuracy: 0.1436\n",
            "Epoch 51/75\n",
            "177/177 [==============================] - 1s 4ms/step - loss: 3.0771 - accuracy: 0.1005 - val_loss: 2.9914 - val_accuracy: 0.1388\n",
            "Epoch 52/75\n",
            "177/177 [==============================] - 1s 4ms/step - loss: 3.0549 - accuracy: 0.1143 - val_loss: 2.9851 - val_accuracy: 0.1452\n",
            "Epoch 53/75\n",
            "177/177 [==============================] - 1s 4ms/step - loss: 3.0627 - accuracy: 0.1070 - val_loss: 2.9738 - val_accuracy: 0.1473\n",
            "Epoch 54/75\n",
            "177/177 [==============================] - 1s 4ms/step - loss: 3.0482 - accuracy: 0.1050 - val_loss: 2.9723 - val_accuracy: 0.1484\n",
            "Epoch 55/75\n",
            "177/177 [==============================] - 1s 4ms/step - loss: 3.0533 - accuracy: 0.1185 - val_loss: 2.9634 - val_accuracy: 0.1511\n",
            "Epoch 56/75\n",
            "177/177 [==============================] - 1s 4ms/step - loss: 3.0519 - accuracy: 0.1027 - val_loss: 2.9559 - val_accuracy: 0.1521\n",
            "Epoch 57/75\n",
            "177/177 [==============================] - 1s 4ms/step - loss: 3.0506 - accuracy: 0.1037 - val_loss: 2.9490 - val_accuracy: 0.1532\n",
            "Epoch 58/75\n",
            "177/177 [==============================] - 1s 4ms/step - loss: 3.0519 - accuracy: 0.1001 - val_loss: 2.9395 - val_accuracy: 0.1644\n",
            "Epoch 59/75\n",
            "177/177 [==============================] - 1s 4ms/step - loss: 3.0169 - accuracy: 0.1195 - val_loss: 2.9362 - val_accuracy: 0.1601\n",
            "Epoch 60/75\n",
            "177/177 [==============================] - 1s 4ms/step - loss: 3.0305 - accuracy: 0.1147 - val_loss: 2.9283 - val_accuracy: 0.1590\n",
            "Epoch 61/75\n",
            "177/177 [==============================] - 1s 4ms/step - loss: 3.0265 - accuracy: 0.1129 - val_loss: 2.9181 - val_accuracy: 0.1543\n",
            "Epoch 62/75\n",
            "177/177 [==============================] - 1s 4ms/step - loss: 3.0034 - accuracy: 0.1174 - val_loss: 2.9117 - val_accuracy: 0.1649\n",
            "Epoch 63/75\n",
            "177/177 [==============================] - 1s 4ms/step - loss: 2.9910 - accuracy: 0.1280 - val_loss: 2.9065 - val_accuracy: 0.1543\n",
            "Epoch 64/75\n",
            "177/177 [==============================] - 1s 4ms/step - loss: 2.9910 - accuracy: 0.1143 - val_loss: 2.9028 - val_accuracy: 0.1543\n",
            "Epoch 65/75\n",
            "177/177 [==============================] - 1s 4ms/step - loss: 2.9892 - accuracy: 0.1229 - val_loss: 2.8926 - val_accuracy: 0.1644\n",
            "Epoch 66/75\n",
            "177/177 [==============================] - 1s 4ms/step - loss: 2.9933 - accuracy: 0.1233 - val_loss: 2.8849 - val_accuracy: 0.1670\n",
            "Epoch 67/75\n",
            "177/177 [==============================] - 1s 4ms/step - loss: 2.9764 - accuracy: 0.1233 - val_loss: 2.8830 - val_accuracy: 0.1670\n",
            "Epoch 68/75\n",
            "177/177 [==============================] - 1s 4ms/step - loss: 2.9600 - accuracy: 0.1326 - val_loss: 2.8816 - val_accuracy: 0.1787\n",
            "Epoch 69/75\n",
            "177/177 [==============================] - 1s 4ms/step - loss: 2.9670 - accuracy: 0.1333 - val_loss: 2.8678 - val_accuracy: 0.1713\n",
            "Epoch 70/75\n",
            "177/177 [==============================] - 1s 4ms/step - loss: 2.9547 - accuracy: 0.1273 - val_loss: 2.8563 - val_accuracy: 0.1793\n",
            "Epoch 71/75\n",
            "177/177 [==============================] - 1s 4ms/step - loss: 2.9457 - accuracy: 0.1434 - val_loss: 2.8534 - val_accuracy: 0.1745\n",
            "Epoch 72/75\n",
            "177/177 [==============================] - 1s 4ms/step - loss: 2.9425 - accuracy: 0.1392 - val_loss: 2.8524 - val_accuracy: 0.1766\n",
            "Epoch 73/75\n",
            "177/177 [==============================] - 1s 4ms/step - loss: 2.9276 - accuracy: 0.1386 - val_loss: 2.8394 - val_accuracy: 0.1782\n",
            "Epoch 74/75\n",
            "177/177 [==============================] - 1s 4ms/step - loss: 2.9416 - accuracy: 0.1312 - val_loss: 2.8399 - val_accuracy: 0.1739\n",
            "Epoch 75/75\n",
            "177/177 [==============================] - 1s 4ms/step - loss: 2.9249 - accuracy: 0.1476 - val_loss: 2.8370 - val_accuracy: 0.1787\n",
            "Model: \"sequential_2\"\n",
            "_________________________________________________________________\n",
            "Layer (type)                 Output Shape              Param #   \n",
            "=================================================================\n",
            "dense_14 (Dense)             (None, 32)                98336     \n",
            "_________________________________________________________________\n",
            "dense_15 (Dense)             (None, 32)                1056      \n",
            "_________________________________________________________________\n",
            "dense_16 (Dense)             (None, 32)                1056      \n",
            "_________________________________________________________________\n",
            "dropout_4 (Dropout)          (None, 32)                0         \n",
            "_________________________________________________________________\n",
            "flatten_2 (Flatten)          (None, 32)                0         \n",
            "_________________________________________________________________\n",
            "dense_17 (Dense)             (None, 64)                2112      \n",
            "_________________________________________________________________\n",
            "dense_18 (Dense)             (None, 64)                4160      \n",
            "_________________________________________________________________\n",
            "dense_19 (Dense)             (None, 128)               8320      \n",
            "_________________________________________________________________\n",
            "dropout_5 (Dropout)          (None, 128)               0         \n",
            "_________________________________________________________________\n",
            "dense_20 (Dense)             (None, 29)                3741      \n",
            "=================================================================\n",
            "Total params: 118,781\n",
            "Trainable params: 118,781\n",
            "Non-trainable params: 0\n",
            "_________________________________________________________________\n"
          ],
          "name": "stdout"
        }
      ]
    },
    {
      "cell_type": "code",
      "metadata": {
        "id": "uu1fgiyVZS6M",
        "colab": {
          "base_uri": "https://localhost:8080/",
          "height": 982
        },
        "outputId": "81869310-b576-46fb-f038-c763ccec702c"
      },
      "source": [
        "\n",
        "#evaluate the network\n",
        "print(\"[INFO] evaluating network...\")\n",
        "predictions = model.predict(X_test, batch_size=32)\n",
        "\n",
        "#Uncomment to see the predicted probabilty for each class in every test image\n",
        "# print (\"predictions---------------->\",predictions)\n",
        "#Uncomment to print the predicted labels in each image\n",
        "# print(\"predictions.argmax(axis=1)\",predictions.argmax(axis=1))\n",
        "\n",
        "# print the performance report of the prediction\n",
        "print(classification_report(testY.argmax(axis=1),\n",
        "\tpredictions.argmax(axis=1), target_names=lb.classes_))\n",
        "\n",
        "# plot the training loss and accuracy for each epoch\n",
        "N = np.arange(0, EPOCHS)\n",
        "plt.style.use(\"ggplot\")\n",
        "plt.figure()\n",
        "plt.plot(N, model_history.history[\"loss\"], label=\"train_loss\")\n",
        "plt.plot(N, model_history.history[\"val_loss\"], label=\"val_loss\")\n",
        "plt.plot(N, model_history.history[\"accuracy\"], label=\"train_acc\")\n",
        "plt.plot(N, model_history.history[\"val_accuracy\"], label=\"val_acc\")\n",
        "plt.title(\"Training Loss and Accuracy (simple_multiclass_classifcation)\")\n",
        "plt.xlabel(\"Epoch #\")\n",
        "plt.ylabel(\"Loss/Accuracy\")\n",
        "plt.legend()\n",
        "plt.savefig(\"training_performance.png\")"
      ],
      "execution_count": 21,
      "outputs": [
        {
          "output_type": "stream",
          "text": [
            "[INFO] evaluating network...\n",
            "                precision    recall  f1-score   support\n",
            "\n",
            "        beanie       0.00      0.00      0.00        89\n",
            "        bikini       0.00      0.00      0.00        58\n",
            "       blazers       0.00      0.00      0.00        30\n",
            "    boat-shoes       0.00      0.00      0.00        81\n",
            " boatneck-tops       0.00      0.00      0.00        67\n",
            "      bodysuit       0.00      0.00      0.00        80\n",
            "         boots       0.08      0.06      0.07        85\n",
            "        bowtie       0.00      0.00      0.00        80\n",
            "     bracelets       0.00      0.00      0.00        28\n",
            "business-suits       0.00      0.00      0.00        41\n",
            "     cami-tops       0.00      0.00      0.00        83\n",
            " chelsea-boots       0.38      0.84      0.52        73\n",
            "         coats       0.00      0.00      0.00        70\n",
            "     crop-tops       0.18      0.03      0.05        75\n",
            " demin-jackets       0.00      0.00      0.00        30\n",
            "      earrings       0.29      0.69      0.41        65\n",
            " evening-gowns       0.00      0.00      0.00        34\n",
            "        gloves       0.12      0.09      0.10        81\n",
            "       hoodies       0.18      0.04      0.06        77\n",
            "         pumps       0.00      0.00      0.00        17\n",
            "         scarf       0.00      0.00      0.00        14\n",
            "        skirts       0.17      0.05      0.08        74\n",
            "      sneakers       0.19      0.52      0.28        71\n",
            "     stilettos       0.42      0.62      0.50        72\n",
            "    sunglasses       0.17      0.86      0.29        79\n",
            "      trousers       0.11      0.13      0.12        82\n",
            "       tuxedos       0.05      0.35      0.08        79\n",
            "     waistcoat       0.00      0.00      0.00        76\n",
            "    wristwatch       0.00      0.00      0.00        89\n",
            "\n",
            "      accuracy                           0.17      1880\n",
            "     macro avg       0.08      0.15      0.09      1880\n",
            "  weighted avg       0.09      0.17      0.10      1880\n",
            "\n"
          ],
          "name": "stdout"
        },
        {
          "output_type": "stream",
          "text": [
            "/usr/local/lib/python3.7/dist-packages/sklearn/metrics/_classification.py:1272: UndefinedMetricWarning: Precision and F-score are ill-defined and being set to 0.0 in labels with no predicted samples. Use `zero_division` parameter to control this behavior.\n",
            "  _warn_prf(average, modifier, msg_start, len(result))\n"
          ],
          "name": "stderr"
        },
        {
          "output_type": "display_data",
          "data": {
            "image/png": "[encoded data removed]",
            "text/plain": [
              "<Figure size 432x288 with 1 Axes>"
            ]
          },
          "metadata": {
            "tags": []
          }
        }
      ]
    },
    {
      "cell_type": "code",
      "metadata": {
        "id": "_7UxbDJKp9F5"
      },
      "source": [
        ""
      ],
      "execution_count": 21,
      "outputs": []
    },
    {
      "cell_type": "markdown",
      "metadata": {
        "id": "fW6mKYV7vRAJ"
      },
      "source": [
        "## Transfer Learning"
      ]
    },
    {
      "cell_type": "code",
      "metadata": {
        "id": "RKMePQMXvO9p"
      },
      "source": [
        "external_classifier = '/content/drive/MyDrive/Colab Notebooks/BrandMind_Assessment/91Model.h5'"
      ],
      "execution_count": 22,
      "outputs": []
    },
    {
      "cell_type": "code",
      "metadata": {
        "colab": {
          "base_uri": "https://localhost:8080/",
          "height": 164
        },
        "id": "NB3WdC6Fef68",
        "outputId": "eb48c527-cf59-4f86-bd8c-6933a4fde2e6"
      },
      "source": [
        ""
      ],
      "execution_count": 24,
      "outputs": [
        {
          "output_type": "error",
          "ename": "AttributeError",
          "evalue": "ignored",
          "traceback": [
            "\u001b[0;31m---------------------------------------------------------------------------\u001b[0m",
            "\u001b[0;31mAttributeError\u001b[0m                            Traceback (most recent call last)",
            "\u001b[0;32m<ipython-input-24-c2ea56a3fe1a>\u001b[0m in \u001b[0;36m<module>\u001b[0;34m()\u001b[0m\n\u001b[0;32m----> 1\u001b[0;31m \u001b[0mexternal_classifier\u001b[0m\u001b[0;34m.\u001b[0m\u001b[0msummary\u001b[0m\u001b[0;34m(\u001b[0m\u001b[0;34m)\u001b[0m\u001b[0;34m\u001b[0m\u001b[0;34m\u001b[0m\u001b[0m\n\u001b[0m",
            "\u001b[0;31mAttributeError\u001b[0m: 'str' object has no attribute 'summary'"
          ]
        }
      ]
    },
    {
      "cell_type": "code",
      "metadata": {
        "id": "g86aCgnWvTyL"
      },
      "source": [
        "# instantiate a base model with pre-trained weights\n",
        "\n",
        "base_model = keras.applications.Xception(\n",
        "    weights= external_classifier,  # Load weights pre-trained on ImageNet.\n",
        "    input_shape=(150, 150, 3),\n",
        "    include_top=False)  # Do not include "
      ],
      "execution_count": null,
      "outputs": []
    },
    {
      "cell_type": "code",
      "metadata": {
        "id": "D3oGs98NzUAU"
      },
      "source": [
        "# freeze the base model\n",
        "base_model.trainable = False"
      ],
      "execution_count": null,
      "outputs": []
    },
    {
      "cell_type": "code",
      "metadata": {
        "id": "gi4aS1Zgzk_-"
      },
      "source": [
        "checkpoint_T = ModelCheckpoint('model-checkpoint}.h5', verbose=0, monitor='val_loss',save_best_only=True, mode='auto')  \n",
        "\n",
        "inputs = keras.Input(shape=(150, 150, 3))\n",
        "# We make sure that the base_model is running in inference mode here,\n",
        "# by passing `training=False`. This is important for fine-tuning, as you will\n",
        "# learn in a few paragraphs.\n",
        "x = base_model(inputs, training=False)\n",
        "# Convert features of shape `base_model.output_shape[1:]` to vectors\n",
        "x = keras.layers.GlobalAveragePooling2D()(x)\n",
        "# A Dense classifier with a single unit (binary classification)\n",
        "outputs = keras.layers.Dense(1)(x)\n",
        "model = keras.Model(inputs, outputs)\n",
        "\n",
        "model.compile(optimizer=keras.optimizers.Adam(),\n",
        "              loss=keras.losses.BinaryCrossentropy(from_logits=True),\n",
        "              metrics=[keras.metrics.BinaryAccuracy()])\n",
        "model.fit(X_train, trainY, epochs=20, callbacks=[checkpoint_T], validation_data=(X_val, valY))"
      ],
      "execution_count": null,
      "outputs": []
    },
    {
      "cell_type": "code",
      "metadata": {
        "id": "7kf-GKJT0UE7"
      },
      "source": [
        " "
      ],
      "execution_count": null,
      "outputs": []
    },
    {
      "cell_type": "code",
      "metadata": {
        "id": "8GF50Uvtcdd7"
      },
      "source": [
        ""
      ],
      "execution_count": null,
      "outputs": []
    }
  ]
}