{
  "nbformat": 4,
  "nbformat_minor": 0,
  "metadata": {
    "colab": {
      "name": "BrandMind_Stefanos.ipynb",
      "provenance": [],
      "collapsed_sections": [],
      "mount_file_id": "1PdLt6QFKUKEIf_8pCR_lLYYUVSgfg4zI",
      "authorship_tag": "ABX9TyNa5B58CGmM3fdWILrPaAFd",
      "include_colab_link": true
    },
    "kernelspec": {
      "name": "python3",
      "display_name": "Python 3"
    }
  },
  "cells": [
    {
      "cell_type": "markdown",
      "metadata": {
        "id": "view-in-github",
        "colab_type": "text"
      },
      "source": [
        "<a href=\"https://colab.research.google.com/github/stevenfox/products_classification/blob/main/BrandMind_Stefanos.ipynb\" target=\"_parent\"><img src=\"https://colab.research.google.com/assets/colab-badge.svg\" alt=\"Open In Colab\"/></a>"
      ]
    },
    {
      "cell_type": "markdown",
      "metadata": {
        "id": "O4NmVU5kmLzO"
      },
      "source": [
        "#Classification on shopping products using CNN with TF and Keras\n",
        "\n",
        "  Classify a given product based on 29 categories."
      ]
    },
    {
      "cell_type": "code",
      "metadata": {
        "colab": {
          "base_uri": "https://localhost:8080/"
        },
        "id": "rrGC7iMNOupE",
        "outputId": "4bbd2948-0eee-4308-9d16-6a3b2d1b8118"
      },
      "source": [
        "# TensorFlow and tf.keras\n",
        "from sklearn.model_selection import train_test_split\n",
        "from sklearn.metrics import classification_report\n",
        "from sklearn.preprocessing import LabelBinarizer\n",
        "from sklearn import preprocessing\n",
        "\n",
        "# Helper libraries\n",
        "import numpy as np\n",
        "import matplotlib.pyplot as plt\n",
        "\n",
        "print(tf.__version__)\n",
        "\n",
        "\n",
        "import os\n",
        "import matplotlib.image as mpimg\n",
        "import cv2\n",
        "from imutils import paths\n",
        "# import pickle\n"
      ],
      "execution_count": null,
      "outputs": [
        {
          "output_type": "stream",
          "text": [
            "2.4.1\n"
          ],
          "name": "stdout"
        }
      ]
    },
    {
      "cell_type": "markdown",
      "metadata": {
        "id": "OSNGWX8LTbTy"
      },
      "source": [
        "Paths\n"
      ]
    },
    {
      "cell_type": "code",
      "metadata": {
        "id": "3-n73qvpQL8I"
      },
      "source": [
        "dataset_dir= '/content/drive/MyDrive/Colab Notebooks/BrandMind_Assessment/Products'"
      ],
      "execution_count": null,
      "outputs": []
    },
    {
      "cell_type": "code",
      "metadata": {
        "id": "EnQRQCLDN0qZ"
      },
      "source": [
        "data = []\n",
        "labels = []"
      ],
      "execution_count": null,
      "outputs": []
    },
    {
      "cell_type": "code",
      "metadata": {
        "id": "YviWOC3fNhj9"
      },
      "source": [
        "# grab the image paths and randomly shuffle them\n",
        "imagePaths = sorted(list(paths.list_images(dataset_dir)))"
      ],
      "execution_count": null,
      "outputs": []
    },
    {
      "cell_type": "code",
      "metadata": {
        "colab": {
          "base_uri": "https://localhost:8080/"
        },
        "id": "qNwWza7keQEx",
        "outputId": "a452bdbf-8851-4637-d200-526cbc71b0c8"
      },
      "source": [
        "#total number images\n",
        "total_number_of_images = len(imagePaths)\n",
        "print(\"Total number of images----->\",total_number_of_images)\n",
        "random.shuffle(imagePaths)"
      ],
      "execution_count": null,
      "outputs": [
        {
          "output_type": "stream",
          "text": [
            "Total number of images-----> 9398\n"
          ],
          "name": "stdout"
        }
      ]
    },
    {
      "cell_type": "code",
      "metadata": {
        "id": "Oa3tKNeAecE5"
      },
      "source": [
        "# loop over the shuffled input images\n",
        "for imagePath in imagePaths:\n",
        "\n",
        "\t#Read the image into a numpy array using opencv\n",
        "\t#all the read images are of different shapes\n",
        "\timage = cv2.imread(imagePath)\n",
        "\n",
        "\t#resize the image to be 32x32 pixels (ignoring aspect ratio)\n",
        "\t#After reshape size of all the images will become 32x32x3\n",
        "\t#Total number of pixels in every image = 32x32x3=3072\n",
        "\timage = cv2.resize(image, (32, 32))\n",
        "\n",
        "\t#flatten converts every 3D image (32x32x3) into 1D numpy array of shape (3072,)\n",
        "\t#(3072,) is the shape of the flatten image\n",
        "\t#(3072,) shape means 3072 columns and 1 row\n",
        "\timage_flatten = image.flatten()\n",
        "\n",
        "\t#Append each image data 1D array to the data list\n",
        "\tdata.append(image_flatten)\n",
        "\n",
        "\t# extract the class label from the image path and update the\n",
        "\tlabel = imagePath.split(os.path.sep)[-2]\n",
        "\n",
        "\t#Append each image label to the labels list\n",
        "\tlabels.append(label)\n",
        "# scale the raw pixel intensities to the range [0, 1]\n",
        "#convert the data and label list to numpy array\n",
        "data = np.array(data, dtype=\"float\") / 255.0\n",
        "labels = np.array(labels)"
      ],
      "execution_count": null,
      "outputs": []
    },
    {
      "cell_type": "code",
      "metadata": {
        "colab": {
          "base_uri": "https://localhost:8080/"
        },
        "id": "OP1SFalZh0Hg",
        "outputId": "53a9168c-c080-4d86-ea45-f62528c4552e"
      },
      "source": [
        "# partition the data into training, testing and validation splits using 60% of\n",
        "# the data for training, 20% for testing and the remaining 20% for validating\n",
        "# train_test_split is a scikit-learn's function which helps us to split images into three devisions of training, testing and validation respectively\n",
        "\n",
        "(X_train, X_test, y_train, y_test) = train_test_split(data, labels, test_size=0.2, random_state=1) # initial split of 80% / 20%\n",
        "\n",
        "(X_train, X_val, y_train, y_val )= train_test_split(X_train, y_train, test_size=0.25, random_state=1) # 0.25 x 0.8 = 0.2\n",
        "\n",
        "\n",
        "print(\"Amount of training images --->\",len(X_train),\",\",\"Amount of training labels --->\",len(y_train))\n",
        "print(\"Amount of testing images --->\",len(X_test),\",\",\"Amount of testing labels --->\",len(y_test))\n",
        "print(\"Amount of validating images --->\",len(X_val),\",\",\"Amount of testing labels --->\",len(y_val))\n"
      ],
      "execution_count": null,
      "outputs": [
        {
          "output_type": "stream",
          "text": [
            "Amount of training images ---> 5638 , Amount of training labels ---> 5638\n",
            "Amount of testing images ---> 1880 , Amount of testing labels ---> 1880\n",
            "Amount of validating images ---> 1880 , Amount of testing labels ---> 1880\n"
          ],
          "name": "stdout"
        }
      ]
    },
    {
      "cell_type": "code",
      "metadata": {
        "id": "lXEHg3f_boIu"
      },
      "source": [
        "# convert the labels from integers to vectors \n",
        "# perform One hot encoding of all the labels using scikit-learn's function LabelBinarizer\n",
        "# LabelBinarizer fit_transform finds all the labels\n",
        "\n",
        "lb = preprocessing.LabelBinarizer()\n",
        "trainY = lb.fit_transform(y_train)\n",
        "testY = lb.transform(y_test)\n",
        "valY = lb.transform(y_val)\n"
      ],
      "execution_count": null,
      "outputs": []
    },
    {
      "cell_type": "code",
      "metadata": {
        "colab": {
          "base_uri": "https://localhost:8080/"
        },
        "id": "bo_NrVjsgch0",
        "outputId": "8f251f21-da52-4fb9-98f5-09b8cc187647"
      },
      "source": [
        "print(\"\\n\")\n",
        "print (\"Classes found to train\",)\n",
        "train_classes = lb.classes_\n",
        "print(train_classes)\n",
        "binary_rep_each_class = lb.transform(train_classes)\n",
        "print(\"Binary representation of each class\")\n",
        "print(binary_rep_each_class)\n",
        "print(\"\\n\")"
      ],
      "execution_count": null,
      "outputs": [
        {
          "output_type": "stream",
          "text": [
            "\n",
            "\n",
            "Classes found to train\n",
            "['beanie' 'bikini' 'blazers' 'boat-shoes' 'boatneck-tops' 'bodysuit' 'boots' 'bowtie' 'bracelets' 'business-suits'\n",
            " 'cami-tops' 'chelsea-boots' 'coats' 'crop-tops' 'demin-jackets' 'earrings' 'evening-gowns' 'gloves' 'hoodies' 'pumps'\n",
            " 'scarf' 'skirts' 'sneakers' 'stilettos' 'sunglasses' 'trousers' 'tuxedos' 'waistcoat' 'wristwatch']\n",
            "Binary representation of each class\n",
            "[[1 0 0 0 ... 0 0 0 0]\n",
            " [0 1 0 0 ... 0 0 0 0]\n",
            " [0 0 1 0 ... 0 0 0 0]\n",
            " [0 0 0 1 ... 0 0 0 0]\n",
            " ...\n",
            " [0 0 0 0 ... 1 0 0 0]\n",
            " [0 0 0 0 ... 0 1 0 0]\n",
            " [0 0 0 0 ... 0 0 1 0]\n",
            " [0 0 0 0 ... 0 0 0 1]]\n",
            "\n",
            "\n"
          ],
          "name": "stdout"
        }
      ]
    },
    {
      "cell_type": "code",
      "metadata": {
        "id": "w4Uty79kh8O0"
      },
      "source": [
        ""
      ],
      "execution_count": null,
      "outputs": []
    },
    {
      "cell_type": "markdown",
      "metadata": {
        "id": "hzJIe4sH6NRQ"
      },
      "source": [
        "## Deep learning libraries"
      ]
    },
    {
      "cell_type": "code",
      "metadata": {
        "id": "fVsZD3cclk4C"
      },
      "source": [
        "import tensorflow as tf\n",
        "\n",
        "from tensorflow import keras\n",
        "from tensorflow.keras import layers\n",
        "from tensorflow.keras.models import Sequential\n",
        "from keras.layers import Conv2D, MaxPooling2D\n",
        "from keras.layers import Activation, Dropout, Flatten, Dense\n",
        "from keras.optimizers import SGD\n",
        "from keras import backend as K\n"
      ],
      "execution_count": null,
      "outputs": []
    },
    {
      "cell_type": "code",
      "metadata": {
        "colab": {
          "base_uri": "https://localhost:8080/"
        },
        "id": "r1ou43rqVmHE",
        "outputId": "bdf1a63e-7f8a-434b-a702-397b6a5978ed"
      },
      "source": [
        "# dimensions of our images.\n",
        "img_width, img_height = 150, 150\n",
        "\n",
        "INIT_LR = 0.01\n",
        "EPOCHS = 75\n",
        "opt = SGD(lr=INIT_LR)\n",
        "\n",
        "model = Sequential()\n",
        "model.add(Flatten(input_shape=trainX.shape[1:]))\n",
        "model.add(Dense(256, activation='relu'))\n",
        "model.add(Dropout(0.5))\n",
        "model.add(Dense(len(train_classes), activation='sigmoid'))\n",
        "model.summary()\n",
        "\n",
        "model.compile(loss=\"categorical_crossentropy\", \n",
        "              optimizer=opt,metrics=[\"accuracy\"])\n",
        "\n",
        "\n",
        "model.fit(X_train, trainY,\n",
        "          epochs=50,\n",
        "          batch_size=batch_size,\n",
        "          validation_data=(X_val, valY))\n",
        "model.save_weights('bottleneck_fc_model.h5')"
      ],
      "execution_count": null,
      "outputs": [
        {
          "output_type": "stream",
          "text": [
            "Model: \"sequential_23\"\n",
            "_________________________________________________________________\n",
            "Layer (type)                 Output Shape              Param #   \n",
            "=================================================================\n",
            "flatten_11 (Flatten)         (None, 3072)              0         \n",
            "_________________________________________________________________\n",
            "dense_22 (Dense)             (None, 256)               786688    \n",
            "_________________________________________________________________\n",
            "dropout_11 (Dropout)         (None, 256)               0         \n",
            "_________________________________________________________________\n",
            "dense_23 (Dense)             (None, 29)                7453      \n",
            "=================================================================\n",
            "Total params: 794,141\n",
            "Trainable params: 794,141\n",
            "Non-trainable params: 0\n",
            "_________________________________________________________________\n",
            "Epoch 1/50\n",
            "353/353 [==============================] - 3s 7ms/step - loss: 3.2902 - accuracy: 0.0955 - val_loss: 2.5907 - val_accuracy: 0.2622\n",
            "Epoch 2/50\n",
            "353/353 [==============================] - 2s 6ms/step - loss: 2.6837 - accuracy: 0.2333 - val_loss: 2.3102 - val_accuracy: 0.3303\n",
            "Epoch 3/50\n",
            "353/353 [==============================] - 2s 6ms/step - loss: 2.4436 - accuracy: 0.3009 - val_loss: 2.2151 - val_accuracy: 0.3835\n",
            "Epoch 4/50\n",
            "353/353 [==============================] - 2s 6ms/step - loss: 2.2807 - accuracy: 0.3430 - val_loss: 2.1349 - val_accuracy: 0.3564\n",
            "Epoch 5/50\n",
            "353/353 [==============================] - 2s 7ms/step - loss: 2.1914 - accuracy: 0.3597 - val_loss: 2.0104 - val_accuracy: 0.4085\n",
            "Epoch 6/50\n",
            "353/353 [==============================] - 2s 6ms/step - loss: 2.0670 - accuracy: 0.3996 - val_loss: 1.9200 - val_accuracy: 0.4596\n",
            "Epoch 7/50\n",
            "353/353 [==============================] - 2s 7ms/step - loss: 2.0142 - accuracy: 0.4270 - val_loss: 1.8826 - val_accuracy: 0.4803\n",
            "Epoch 8/50\n",
            "353/353 [==============================] - 2s 6ms/step - loss: 1.9240 - accuracy: 0.4393 - val_loss: 1.8044 - val_accuracy: 0.4782\n",
            "Epoch 9/50\n",
            "353/353 [==============================] - 2s 6ms/step - loss: 1.9013 - accuracy: 0.4425 - val_loss: 1.8211 - val_accuracy: 0.4638\n",
            "Epoch 10/50\n",
            "353/353 [==============================] - 2s 5ms/step - loss: 1.8298 - accuracy: 0.4616 - val_loss: 1.7806 - val_accuracy: 0.5032\n",
            "Epoch 11/50\n",
            "353/353 [==============================] - 2s 6ms/step - loss: 1.7882 - accuracy: 0.4711 - val_loss: 1.7794 - val_accuracy: 0.4989\n",
            "Epoch 12/50\n",
            "353/353 [==============================] - 2s 6ms/step - loss: 1.7396 - accuracy: 0.4825 - val_loss: 1.6985 - val_accuracy: 0.5186\n",
            "Epoch 13/50\n",
            "353/353 [==============================] - 2s 6ms/step - loss: 1.6956 - accuracy: 0.5080 - val_loss: 1.6685 - val_accuracy: 0.5388\n",
            "Epoch 14/50\n",
            "353/353 [==============================] - 2s 5ms/step - loss: 1.6519 - accuracy: 0.5179 - val_loss: 1.6157 - val_accuracy: 0.5319\n",
            "Epoch 15/50\n",
            "353/353 [==============================] - 2s 6ms/step - loss: 1.6007 - accuracy: 0.5291 - val_loss: 1.7037 - val_accuracy: 0.5149\n",
            "Epoch 16/50\n",
            "353/353 [==============================] - 2s 6ms/step - loss: 1.5625 - accuracy: 0.5374 - val_loss: 1.6528 - val_accuracy: 0.5128\n",
            "Epoch 17/50\n",
            "353/353 [==============================] - 2s 6ms/step - loss: 1.6035 - accuracy: 0.5418 - val_loss: 1.5744 - val_accuracy: 0.5399\n",
            "Epoch 18/50\n",
            "353/353 [==============================] - 2s 6ms/step - loss: 1.5351 - accuracy: 0.5423 - val_loss: 1.6662 - val_accuracy: 0.5144\n",
            "Epoch 19/50\n",
            "353/353 [==============================] - 2s 6ms/step - loss: 1.5158 - accuracy: 0.5461 - val_loss: 1.5518 - val_accuracy: 0.5580\n",
            "Epoch 20/50\n",
            "353/353 [==============================] - 2s 6ms/step - loss: 1.5041 - accuracy: 0.5485 - val_loss: 1.5246 - val_accuracy: 0.5649\n",
            "Epoch 21/50\n",
            "353/353 [==============================] - 2s 6ms/step - loss: 1.4717 - accuracy: 0.5556 - val_loss: 1.5896 - val_accuracy: 0.5277\n",
            "Epoch 22/50\n",
            "353/353 [==============================] - 2s 6ms/step - loss: 1.4085 - accuracy: 0.5841 - val_loss: 1.5493 - val_accuracy: 0.5521\n",
            "Epoch 23/50\n",
            "353/353 [==============================] - 2s 6ms/step - loss: 1.3786 - accuracy: 0.5948 - val_loss: 1.5187 - val_accuracy: 0.5601\n",
            "Epoch 24/50\n",
            "353/353 [==============================] - 2s 6ms/step - loss: 1.4101 - accuracy: 0.5770 - val_loss: 1.4661 - val_accuracy: 0.5745\n",
            "Epoch 25/50\n",
            "353/353 [==============================] - 2s 6ms/step - loss: 1.3554 - accuracy: 0.5837 - val_loss: 1.4755 - val_accuracy: 0.5660\n",
            "Epoch 26/50\n",
            "353/353 [==============================] - 2s 6ms/step - loss: 1.3042 - accuracy: 0.6028 - val_loss: 1.4954 - val_accuracy: 0.5606\n",
            "Epoch 27/50\n",
            "353/353 [==============================] - 2s 6ms/step - loss: 1.3322 - accuracy: 0.5952 - val_loss: 1.4530 - val_accuracy: 0.5798\n",
            "Epoch 28/50\n",
            "353/353 [==============================] - 2s 6ms/step - loss: 1.2647 - accuracy: 0.6183 - val_loss: 1.4714 - val_accuracy: 0.5846\n",
            "Epoch 29/50\n",
            "353/353 [==============================] - 2s 6ms/step - loss: 1.3081 - accuracy: 0.6080 - val_loss: 1.4558 - val_accuracy: 0.5766\n",
            "Epoch 30/50\n",
            "353/353 [==============================] - 2s 6ms/step - loss: 1.2755 - accuracy: 0.6156 - val_loss: 1.4699 - val_accuracy: 0.5771\n",
            "Epoch 31/50\n",
            "353/353 [==============================] - 2s 6ms/step - loss: 1.2808 - accuracy: 0.6221 - val_loss: 1.4105 - val_accuracy: 0.6037\n",
            "Epoch 32/50\n",
            "353/353 [==============================] - 2s 6ms/step - loss: 1.2524 - accuracy: 0.6222 - val_loss: 1.4298 - val_accuracy: 0.5941\n",
            "Epoch 33/50\n",
            "353/353 [==============================] - 2s 6ms/step - loss: 1.2085 - accuracy: 0.6286 - val_loss: 1.4354 - val_accuracy: 0.5904\n",
            "Epoch 34/50\n",
            "353/353 [==============================] - 2s 6ms/step - loss: 1.2045 - accuracy: 0.6304 - val_loss: 1.4060 - val_accuracy: 0.6144\n",
            "Epoch 35/50\n",
            "353/353 [==============================] - 2s 6ms/step - loss: 1.1619 - accuracy: 0.6438 - val_loss: 1.3664 - val_accuracy: 0.5995\n",
            "Epoch 36/50\n",
            "353/353 [==============================] - 2s 6ms/step - loss: 1.1501 - accuracy: 0.6464 - val_loss: 1.3935 - val_accuracy: 0.6000\n",
            "Epoch 37/50\n",
            "353/353 [==============================] - 2s 6ms/step - loss: 1.1540 - accuracy: 0.6559 - val_loss: 1.3816 - val_accuracy: 0.6122\n",
            "Epoch 38/50\n",
            "353/353 [==============================] - 2s 6ms/step - loss: 1.1144 - accuracy: 0.6610 - val_loss: 1.4526 - val_accuracy: 0.5878\n",
            "Epoch 39/50\n",
            "353/353 [==============================] - 2s 6ms/step - loss: 1.1107 - accuracy: 0.6637 - val_loss: 1.3481 - val_accuracy: 0.6287\n",
            "Epoch 40/50\n",
            "353/353 [==============================] - 2s 6ms/step - loss: 1.0923 - accuracy: 0.6714 - val_loss: 1.4670 - val_accuracy: 0.5819\n",
            "Epoch 41/50\n",
            "353/353 [==============================] - 2s 6ms/step - loss: 1.1153 - accuracy: 0.6619 - val_loss: 1.3492 - val_accuracy: 0.6207\n",
            "Epoch 42/50\n",
            "353/353 [==============================] - 2s 6ms/step - loss: 1.0749 - accuracy: 0.6665 - val_loss: 1.3645 - val_accuracy: 0.6202\n",
            "Epoch 43/50\n",
            "353/353 [==============================] - 2s 6ms/step - loss: 1.1019 - accuracy: 0.6624 - val_loss: 1.3200 - val_accuracy: 0.6287\n",
            "Epoch 44/50\n",
            "353/353 [==============================] - 2s 6ms/step - loss: 1.0514 - accuracy: 0.6776 - val_loss: 1.3666 - val_accuracy: 0.6144\n",
            "Epoch 45/50\n",
            "353/353 [==============================] - 2s 6ms/step - loss: 1.0259 - accuracy: 0.6878 - val_loss: 1.3571 - val_accuracy: 0.6197\n",
            "Epoch 46/50\n",
            "353/353 [==============================] - 2s 6ms/step - loss: 1.0555 - accuracy: 0.6768 - val_loss: 1.3655 - val_accuracy: 0.6255\n",
            "Epoch 47/50\n",
            "353/353 [==============================] - 2s 6ms/step - loss: 1.0258 - accuracy: 0.6848 - val_loss: 1.3462 - val_accuracy: 0.6165\n",
            "Epoch 48/50\n",
            "353/353 [==============================] - 2s 6ms/step - loss: 1.0058 - accuracy: 0.6952 - val_loss: 1.3023 - val_accuracy: 0.6293\n",
            "Epoch 49/50\n",
            "353/353 [==============================] - 2s 5ms/step - loss: 0.9771 - accuracy: 0.7008 - val_loss: 1.3456 - val_accuracy: 0.6160\n",
            "Epoch 50/50\n",
            "353/353 [==============================] - 2s 6ms/step - loss: 0.9512 - accuracy: 0.7010 - val_loss: 1.3744 - val_accuracy: 0.6090\n"
          ],
          "name": "stdout"
        }
      ]
    },
    {
      "cell_type": "code",
      "metadata": {
        "id": "uu1fgiyVZS6M"
      },
      "source": [
        ""
      ],
      "execution_count": null,
      "outputs": []
    }
  ]
}